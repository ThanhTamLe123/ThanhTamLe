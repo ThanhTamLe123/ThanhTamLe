{
  "cells": [
    {
      "cell_type": "markdown",
      "metadata": {
        "id": "view-in-github",
        "colab_type": "text"
      },
      "source": [
        "<a href=\"https://colab.research.google.com/github/ThanhTamLe123/ThanhTamLe/blob/main/bien_kieudulieu_toantu.ipynb\" target=\"_parent\"><img src=\"https://colab.research.google.com/assets/colab-badge.svg\" alt=\"Open In Colab\"/></a>"
      ]
    },
    {
      "cell_type": "code",
      "execution_count": null,
      "id": "3d414cee-eb04-4491-b8b0-e48605270de8",
      "metadata": {
        "id": "3d414cee-eb04-4491-b8b0-e48605270de8"
      },
      "outputs": [],
      "source": [
        "ten = 'Sơn'    #string\n",
        "tuoi = 16      #integer\n",
        "diem = 8.5     #float"
      ]
    },
    {
      "cell_type": "code",
      "execution_count": null,
      "id": "bed583e6-9897-45b2-8777-45857cbb4a80",
      "metadata": {
        "id": "bed583e6-9897-45b2-8777-45857cbb4a80",
        "outputId": "7cf844a3-9c1e-4b73-90ab-eb8b46b282c2"
      },
      "outputs": [
        {
          "name": "stdout",
          "output_type": "stream",
          "text": [
            "12\n"
          ]
        },
        {
          "data": {
            "text/plain": [
              "'HELLO PYTHON'"
            ]
          },
          "execution_count": 4,
          "metadata": {},
          "output_type": "execute_result"
        }
      ],
      "source": [
        "message = \"HELLO PYTHON\"\n",
        "message = 'HELLO PYTHON'\n",
        "print(len(message))\n",
        "message"
      ]
    },
    {
      "cell_type": "code",
      "execution_count": null,
      "id": "9479f1ee-edea-4cb7-87e2-bf534173e109",
      "metadata": {
        "id": "9479f1ee-edea-4cb7-87e2-bf534173e109",
        "outputId": "38ef95b5-2bac-416d-9ad4-c330eab9c9ea"
      },
      "outputs": [
        {
          "name": "stdout",
          "output_type": "stream",
          "text": [
            "O\n",
            "LLO\n",
            "PYTHON\n",
            "HELLO \n"
          ]
        }
      ],
      "source": [
        "print(message[4])\n",
        "print(message[2:5])\n",
        "print(message[6:])\n",
        "print(message[:6])"
      ]
    },
    {
      "cell_type": "code",
      "execution_count": null,
      "id": "ded3aef6-010c-4e28-b16d-2cb87511ff3f",
      "metadata": {
        "id": "ded3aef6-010c-4e28-b16d-2cb87511ff3f",
        "outputId": "84dd64dd-3fa9-45a8-ed92-5c1f744e65d0"
      },
      "outputs": [
        {
          "name": "stdout",
          "output_type": "stream",
          "text": [
            "25\n"
          ]
        }
      ],
      "source": [
        "a = '10'\n",
        "b = 15\n",
        "print(int(a)+b)"
      ]
    },
    {
      "cell_type": "code",
      "execution_count": null,
      "id": "fe03a5d8-00f3-4b03-88f9-62500a86ba5f",
      "metadata": {
        "id": "fe03a5d8-00f3-4b03-88f9-62500a86ba5f",
        "outputId": "2013ec39-cb06-4d01-b85c-a76dbaefefbc"
      },
      "outputs": [
        {
          "name": "stdout",
          "output_type": "stream",
          "text": [
            "25.5\n"
          ]
        }
      ],
      "source": [
        "a = '10.5'\n",
        "b = 15\n",
        "print(float(a)+b)"
      ]
    },
    {
      "cell_type": "code",
      "execution_count": null,
      "id": "f6f49651-9375-4c9a-83a0-026724599e96",
      "metadata": {
        "id": "f6f49651-9375-4c9a-83a0-026724599e96",
        "outputId": "e197a10e-398b-41b5-c145-0249c14af76e"
      },
      "outputs": [
        {
          "name": "stdout",
          "output_type": "stream",
          "text": [
            "1015\n"
          ]
        }
      ],
      "source": [
        "a = 10\n",
        "b = 15\n",
        "print(str(a)+str(b))"
      ]
    },
    {
      "cell_type": "code",
      "execution_count": null,
      "id": "3942c1dd-8800-4b55-a211-2230958eab1f",
      "metadata": {
        "id": "3942c1dd-8800-4b55-a211-2230958eab1f",
        "outputId": "fb080286-c0d9-4aee-995e-dfad660d0f1b"
      },
      "outputs": [
        {
          "name": "stdout",
          "output_type": "stream",
          "text": [
            "20\n"
          ]
        }
      ],
      "source": [
        "c = '10 + 10'\n",
        "print(eval(c))"
      ]
    },
    {
      "cell_type": "code",
      "execution_count": null,
      "id": "da27499a-59b1-4e69-9cc4-cf0c323d5e5d",
      "metadata": {
        "id": "da27499a-59b1-4e69-9cc4-cf0c323d5e5d",
        "outputId": "dd0da475-b0c4-4049-8e8b-56652d868158"
      },
      "outputs": [
        {
          "name": "stdout",
          "output_type": "stream",
          "text": [
            "1\n",
            "25\n",
            "2\n"
          ]
        }
      ],
      "source": [
        "a = 5\n",
        "b = 2\n",
        "print(a%b)\n",
        "print(a**b)\n",
        "print(a//b)"
      ]
    },
    {
      "cell_type": "code",
      "execution_count": null,
      "id": "cd968f31-48f1-4e25-b8b7-9ad078d92759",
      "metadata": {
        "id": "cd968f31-48f1-4e25-b8b7-9ad078d92759",
        "outputId": "9505a686-59a4-4fcb-94ba-e6edb6f21c32"
      },
      "outputs": [
        {
          "name": "stdout",
          "output_type": "stream",
          "text": [
            "True\n",
            "False\n"
          ]
        }
      ],
      "source": [
        "list_so = [1,3,5,7,9]\n",
        "print (7 in list_so)\n",
        "chuoi = 'Trung Tam Tin Hoc'\n",
        "print ('Tin' not in chuoi)"
      ]
    },
    {
      "cell_type": "code",
      "execution_count": null,
      "id": "bd930641-4e67-4d0d-9a6a-d49fbc80aed4",
      "metadata": {
        "id": "bd930641-4e67-4d0d-9a6a-d49fbc80aed4",
        "outputId": "9a68a7ee-769e-4934-9173-0fde280535c9"
      },
      "outputs": [
        {
          "name": "stdout",
          "output_type": "stream",
          "text": [
            "Hello the World.\n",
            "Hello Alice .\n",
            "My name is Alice. I am 21 years old\n"
          ]
        }
      ],
      "source": [
        "# Dang 1\n",
        "print('Hello'+' the World.')\n",
        "name = 'Alice'\n",
        "print('Hello',name,'.')\n",
        "age = 21\n",
        "print('My name is '+name+'. I am '+str(age)+' years old')\n"
      ]
    },
    {
      "cell_type": "code",
      "execution_count": null,
      "id": "a86637d4-bda7-481e-83a3-92e532db92f4",
      "metadata": {
        "id": "a86637d4-bda7-481e-83a3-92e532db92f4",
        "outputId": "5806b04a-0d94-4c51-b83f-113bbb91d240"
      },
      "outputs": [
        {
          "name": "stdout",
          "output_type": "stream",
          "text": [
            "\n",
            "\n",
            "Hello the World\n",
            "Hello Alice .\n",
            "My name is Alice . I am  21  years old\n"
          ]
        }
      ],
      "source": [
        "# Dang 2\n",
        "print('\\n')\n",
        "print('Hello','the World')\n",
        "name = 'Alice'\n",
        "print('Hello',name,'.')\n",
        "age = 21\n",
        "print('My name is',name,'. I am ',age,' years old')"
      ]
    },
    {
      "cell_type": "code",
      "execution_count": null,
      "id": "724c7220-f629-452e-9495-bcfd437e2f80",
      "metadata": {
        "id": "724c7220-f629-452e-9495-bcfd437e2f80",
        "outputId": "90629576-ff90-4314-9583-6455918a5573"
      },
      "outputs": [
        {
          "name": "stdout",
          "output_type": "stream",
          "text": [
            "\n",
            "\n",
            "Hello Alice\n",
            "My name is Alice. I am 21 years old\n"
          ]
        }
      ],
      "source": [
        "# Dang 3\n",
        "\n",
        "print(\"\\n\")\n",
        "name = \"Alice\"\n",
        "print(\"Hello %s\"%name)\n",
        "age = 21\n",
        "print(\"My name is %s. I am %i years old\"%(name,age))"
      ]
    },
    {
      "cell_type": "code",
      "execution_count": null,
      "id": "19f991a0-b6d4-4ac1-bf81-3a07f756c083",
      "metadata": {
        "id": "19f991a0-b6d4-4ac1-bf81-3a07f756c083",
        "outputId": "c1043261-c030-49c9-d0e9-74d4c9383e94"
      },
      "outputs": [
        {
          "name": "stdout",
          "output_type": "stream",
          "text": [
            "\n",
            "\n",
            "Hello Alice\n",
            "My name is Alice. I am 21 years old\n"
          ]
        }
      ],
      "source": [
        "# Dang 4\n",
        "print(\"\\n\")\n",
        "name = \"Alice\"\n",
        "print(\"Hello {}\".format(name))\n",
        "age = 21\n",
        "print(\"My name is {}. I am {} years old\".format(name,age))"
      ]
    },
    {
      "cell_type": "code",
      "execution_count": null,
      "id": "c4155e24-b75d-4013-9227-e70cb4b8214d",
      "metadata": {
        "id": "c4155e24-b75d-4013-9227-e70cb4b8214d",
        "outputId": "81e57f6d-e55f-4cf3-d00f-fffcf19101ed"
      },
      "outputs": [
        {
          "name": "stdin",
          "output_type": "stream",
          "text": [
            "Vui lòng nhập 1 số nguyên:  9.5\n"
          ]
        },
        {
          "data": {
            "text/plain": [
              "9.5"
            ]
          },
          "execution_count": 30,
          "metadata": {},
          "output_type": "execute_result"
        }
      ],
      "source": [
        "x = eval(input('Vui lòng nhập 1 số nguyên: '))\n",
        "x"
      ]
    }
  ],
  "metadata": {
    "kernelspec": {
      "display_name": "Python 3 (ipykernel)",
      "language": "python",
      "name": "python3"
    },
    "language_info": {
      "codemirror_mode": {
        "name": "ipython",
        "version": 3
      },
      "file_extension": ".py",
      "mimetype": "text/x-python",
      "name": "python",
      "nbconvert_exporter": "python",
      "pygments_lexer": "ipython3",
      "version": "3.10.11"
    },
    "colab": {
      "provenance": [],
      "include_colab_link": true
    }
  },
  "nbformat": 4,
  "nbformat_minor": 5
}